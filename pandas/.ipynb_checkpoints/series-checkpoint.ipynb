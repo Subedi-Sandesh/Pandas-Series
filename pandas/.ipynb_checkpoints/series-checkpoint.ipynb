{
 "cells": [
  {
   "cell_type": "code",
   "execution_count": 2,
   "id": "94c3fe67",
   "metadata": {},
   "outputs": [],
   "source": [
    "import pandas as pd\n",
    "import matplotlib.pyplot as plt"
   ]
  },
  {
   "cell_type": "markdown",
   "id": "78918936",
   "metadata": {},
   "source": [
    "## Series"
   ]
  },
  {
   "cell_type": "code",
   "execution_count": 3,
   "id": "a4bcd829",
   "metadata": {},
   "outputs": [
    {
     "name": "stdout",
     "output_type": "stream",
     "text": [
      "A    3.66\n",
      "B    3.55\n",
      "C    3.58\n",
      "D    3.73\n",
      "dtype: float64\n",
      "<class 'pandas.core.series.Series'>\n"
     ]
    }
   ],
   "source": [
    "series = pd.Series([3.66, 3.55, 3.58, 3.73], [\"A\", \"B\", \"C\", \"D\"])\n",
    "print(series)\n",
    "print(type(series))"
   ]
  },
  {
   "cell_type": "code",
   "execution_count": 4,
   "id": "0439e3e5",
   "metadata": {},
   "outputs": [
    {
     "name": "stdout",
     "output_type": "stream",
     "text": [
      "3.58\n"
     ]
    }
   ],
   "source": [
    "print(series.iloc[2]) #ioc = integer location"
   ]
  },
  {
   "cell_type": "code",
   "execution_count": 5,
   "id": "31e979a4",
   "metadata": {},
   "outputs": [
    {
     "name": "stdout",
     "output_type": "stream",
     "text": [
      "{'A': 3.66, 'B': 3.55, 'C': 3.58, 'D': 3.73}\n"
     ]
    }
   ],
   "source": [
    "print(dict(series)) #gives key:value pairs"
   ]
  },
  {
   "cell_type": "markdown",
   "id": "c6a5d459",
   "metadata": {},
   "source": [
    "*Dictionaries Vs Pandas series*"
   ]
  },
  {
   "cell_type": "code",
   "execution_count": 6,
   "id": "84d834cc",
   "metadata": {},
   "outputs": [],
   "source": [
    "s1 = pd.Series([1 ,2 ,3 ,4], ['a', 'b', 'c', 'd'])\n",
    "s2 = pd.Series([7, 5, 1, 3], ['c', 'b', 'a', 'd'])"
   ]
  },
  {
   "cell_type": "code",
   "execution_count": 10,
   "id": "c5d73347",
   "metadata": {},
   "outputs": [
    {
     "name": "stdout",
     "output_type": "stream",
     "text": [
      "a     2\n",
      "b     7\n",
      "c    10\n",
      "d     7\n",
      "dtype: int64\n"
     ]
    }
   ],
   "source": [
    "print(s1 + s2) #can only done by pandas not by dict"
   ]
  },
  {
   "cell_type": "code",
   "execution_count": 11,
   "id": "7f0b3544",
   "metadata": {},
   "outputs": [
    {
     "name": "stdout",
     "output_type": "stream",
     "text": [
      "4\n"
     ]
    }
   ],
   "source": [
    "print(s1.count())"
   ]
  },
  {
   "cell_type": "code",
   "execution_count": 12,
   "id": "03a3afe3",
   "metadata": {},
   "outputs": [
    {
     "name": "stdout",
     "output_type": "stream",
     "text": [
      "c    7\n",
      "b    5\n",
      "dtype: int64\n",
      "b    5\n",
      "a    1\n",
      "d    3\n",
      "dtype: int64\n"
     ]
    }
   ],
   "source": [
    "print(s2.head(2)) #gives the first 2 rows\n",
    "print(s2.tail(3)) #gives the last 3 rows of the series"
   ]
  },
  {
   "cell_type": "code",
   "execution_count": 13,
   "id": "b7b97597",
   "metadata": {},
   "outputs": [],
   "source": [
    "def Square(x):\n",
    "    return x**2"
   ]
  },
  {
   "cell_type": "code",
   "execution_count": 15,
   "id": "63ba200b",
   "metadata": {},
   "outputs": [
    {
     "data": {
      "text/plain": [
       "a     1\n",
       "b     4\n",
       "c     9\n",
       "d    16\n",
       "dtype: int64"
      ]
     },
     "execution_count": 15,
     "metadata": {},
     "output_type": "execute_result"
    }
   ],
   "source": [
    "s1.apply(Square) #apply the function to all the values at once"
   ]
  },
  {
   "cell_type": "code",
   "execution_count": 21,
   "id": "4df0c6f0",
   "metadata": {},
   "outputs": [
    {
     "name": "stdout",
     "output_type": "stream",
     "text": [
      "a    1\n",
      "d    3\n",
      "b    5\n",
      "c    7\n",
      "dtype: int64\n",
      "a    1\n",
      "b    5\n",
      "c    7\n",
      "d    3\n",
      "dtype: int64\n"
     ]
    }
   ],
   "source": [
    "print(s2.sort_values())\n",
    "print(s2.sort_index())"
   ]
  },
  {
   "cell_type": "code",
   "execution_count": 23,
   "id": "f64ba077",
   "metadata": {},
   "outputs": [
    {
     "name": "stdout",
     "output_type": "stream",
     "text": [
      "a    1\n",
      "d    3\n",
      "b    5\n",
      "c    7\n",
      "dtype: int64\n",
      "a    1\n",
      "d    3\n",
      "b    5\n",
      "c    7\n",
      "dtype: int64\n"
     ]
    }
   ],
   "source": [
    "s2.sort_values() #just returns the sorted version without actual change in the \n",
    "                 # main part. To do that:- use inplace\n",
    "print(s2)\n",
    "s2.sort_values(inplace = True)\n",
    "print(s2)"
   ]
  },
  {
   "cell_type": "markdown",
   "id": "16f71559",
   "metadata": {},
   "source": [
    "## visualization"
   ]
  },
  {
   "cell_type": "code",
   "execution_count": 24,
   "id": "08ea12c0",
   "metadata": {},
   "outputs": [
    {
     "data": {
      "image/png": "[encoded data removed]",
      "text/plain": [
       "<Figure size 640x480 with 1 Axes>"
      ]
     },
     "metadata": {},
     "output_type": "display_data"
    }
   ],
   "source": [
    "s1.plot()\n",
    "plt.show()"
   ]
  },
  {
   "cell_type": "code",
   "execution_count": 29,
   "id": "d1a1b305",
   "metadata": {},
   "outputs": [
    {
     "data": {
      "image/png": "[encoded data removed]",
      "text/plain": [
       "<Figure size 640x480 with 1 Axes>"
      ]
     },
     "metadata": {},
     "output_type": "display_data"
    }
   ],
   "source": [
    "s2.plot.bar() #.bar = bar diagram, .hist = histogram, .pie = piechart\n",
    "plt.show()"
   ]
  },
  {
   "cell_type": "markdown",
   "id": "27e5d80f",
   "metadata": {},
   "source": [
    "## Exporting Data\n",
    "\n",
    "Data in pandas can also be exported in many formats like excel, sql, csv, list, dict, json, etc."
   ]
  },
  {
   "cell_type": "code",
   "execution_count": 30,
   "id": "5971d340",
   "metadata": {},
   "outputs": [],
   "source": [
    "s1.to_csv('new.csv')"
   ]
  }
 ],
 "metadata": {
  "kernelspec": {
   "display_name": "Python 3 (ipykernel)",
   "language": "python",
   "name": "python3"
  },
  "language_info": {
   "codemirror_mode": {
    "name": "ipython",
    "version": 3
   },
   "file_extension": ".py",
   "mimetype": "text/x-python",
   "name": "python",
   "nbconvert_exporter": "python",
   "pygments_lexer": "ipython3",
   "version": "3.12.3"
  }
 },
 "nbformat": 4,
 "nbformat_minor": 5
}
