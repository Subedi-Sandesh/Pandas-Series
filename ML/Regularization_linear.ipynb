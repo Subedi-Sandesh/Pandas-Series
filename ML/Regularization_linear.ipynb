{
 "cells": [
  {
   "cell_type": "markdown",
   "id": "73502dee",
   "metadata": {},
   "source": [
    "# Regularized Cost and Gradient Descent"
   ]
  },
  {
   "cell_type": "code",
   "execution_count": 14,
   "id": "48f360ab",
   "metadata": {},
   "outputs": [],
   "source": [
    "import numpy as np\n",
    "import matplotlib.pyplot as plt"
   ]
  },
  {
   "cell_type": "markdown",
   "id": "f20b1dfd",
   "metadata": {},
   "source": [
    "### Cost function for regularized linear regression"
   ]
  },
  {
   "cell_type": "code",
   "execution_count": 15,
   "id": "82ff3903",
   "metadata": {},
   "outputs": [],
   "source": [
    "def compute_cost_linear(X, y, w, b, lambd = 1):\n",
    "    m = X.shape[0] #no of training examples\n",
    "    n = len(w)     #no of features\n",
    "    \n",
    "    # mean squared error term\n",
    "    cost = 0\n",
    "    for i in range(m):\n",
    "        f_wb_x = np.dot(X[i], w) + b\n",
    "        cost+= (f_wb_x - y[i])**2 \n",
    "    cost = cost / (2*m)\n",
    "    \n",
    "    #regularized term\n",
    "    \n",
    "    reg_cost = 0\n",
    "    for j in range(n):\n",
    "        reg_cost+= (w[j])**2\n",
    "    reg_cost = (reg_cost * lambd) / (2*m)\n",
    "    \n",
    "    total_cost = cost + reg_cost\n",
    "    return total_cost\n",
    "    "
   ]
  },
  {
   "cell_type": "code",
   "execution_count": 17,
   "id": "1d26eb6e",
   "metadata": {},
   "outputs": [
    {
     "name": "stdout",
     "output_type": "stream",
     "text": [
      "Regularized cost: 0.4141666666666666\n"
     ]
    }
   ],
   "source": [
    "X = np.array([[1,2], [2,3], [3,4]])\n",
    "y = np.array([1,2, 3])\n",
    "w = np.array([0.1, 0.2])\n",
    "b = 0.5\n",
    "lambd = 0.7\n",
    "\n",
    "cost = compute_cost_linear(X, y ,w ,b ,lambd)\n",
    "print(\"Regularized cost:\", cost)"
   ]
  },
  {
   "cell_type": "markdown",
   "id": "40ee0d69",
   "metadata": {},
   "source": [
    "###  Gradient Descent for regularized linear regression"
   ]
  },
  {
   "cell_type": "code",
   "execution_count": 21,
   "id": "014f5f25",
   "metadata": {},
   "outputs": [],
   "source": [
    "def compute_gradient_linear(X, y, w, b, lambd): \n",
    "\n",
    "    m,n = X.shape           #(number of examples, number of features)\n",
    "    dj_dw = np.zeros((n,))\n",
    "    dj_db = 0.\n",
    "\n",
    "    for i in range(m):                             \n",
    "        err = (np.dot(X[i], w) + b) - y[i]                 \n",
    "        for j in range(n):                         \n",
    "            dj_dw[j] = dj_dw[j] + err * X[i, j]               \n",
    "        dj_db = dj_db + err                        \n",
    "    dj_dw = dj_dw / m                                \n",
    "    dj_db = dj_db / m   \n",
    "    \n",
    "    for j in range(n):\n",
    "        dj_dw[j] = dj_dw[j] + (lambd/m) * w[j]\n",
    "\n",
    "    return dj_db, dj_dw"
   ]
  },
  {
   "cell_type": "code",
   "execution_count": 23,
   "id": "78a1109d",
   "metadata": {},
   "outputs": [
    {
     "name": "stdout",
     "output_type": "stream",
     "text": [
      "Gradient with respect to b: -0.6999999999999998\n",
      "Gradient with respect to w: [-1.843333333333333, -2.5199999999999996]\n"
     ]
    }
   ],
   "source": [
    "dj_db, dj_dw = compute_gradient_linear(X,y,w,b, lambd)\n",
    "print(\"Gradient with respect to b:\", dj_db)\n",
    "print(\"Gradient with respect to w:\", dj_dw.tolist())"
   ]
  },
  {
   "cell_type": "code",
   "execution_count": null,
   "id": "1b8d64e6",
   "metadata": {},
   "outputs": [],
   "source": []
  }
 ],
 "metadata": {
  "kernelspec": {
   "display_name": "Python 3 (ipykernel)",
   "language": "python",
   "name": "python3"
  },
  "language_info": {
   "codemirror_mode": {
    "name": "ipython",
    "version": 3
   },
   "file_extension": ".py",
   "mimetype": "text/x-python",
   "name": "python",
   "nbconvert_exporter": "python",
   "pygments_lexer": "ipython3",
   "version": "3.12.3"
  }
 },
 "nbformat": 4,
 "nbformat_minor": 5
}
